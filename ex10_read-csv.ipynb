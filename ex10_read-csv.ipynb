{
 "cells": [
  {
   "cell_type": "markdown",
   "source": [
    "> Notebook from [https://github.com/squillero/python-accelerated](https://github.com/squillero/python-accelerated)  \r\n",
    "> Copyright © 2021 [Giovanni Squillero](https://github.com/squillero). \r\n",
    "> Free for personal or classroom use; see [LICENCE.md](https://github.com/squillero/python-accelerated/blob/master/LICENSE.md) for details.  "
   ],
   "metadata": {}
  },
  {
   "cell_type": "code",
   "execution_count": 1,
   "source": [
    "import logging\r\n",
    "from pprint import pprint\r\n",
    "logging.basicConfig(format='[%(asctime)s] %(levelname)s: %(message)s', datefmt='%H:%M:%S', \r\n",
    "                    level=logging.INFO)\r\n",
    "\r\n",
    "import csv\r\n",
    "import pickle\r\n",
    "from collections import namedtuple\r\n",
    "import os\r\n",
    "import statistics"
   ],
   "outputs": [],
   "metadata": {}
  },
  {
   "cell_type": "code",
   "execution_count": 2,
   "source": [
    "file_name = os.path.join(os.getcwd(), 'data_files', 'benchmarks.csv')"
   ],
   "outputs": [],
   "metadata": {}
  },
  {
   "cell_type": "code",
   "execution_count": 3,
   "source": [
    "data = list()\r\n",
    "try:\r\n",
    "    with open(file_name) as csv_file:\r\n",
    "        data = csv_file.readlines()\r\n",
    "except OSError as problem:\r\n",
    "    logging.error(f\"Yeuch: {problem}\")"
   ],
   "outputs": [],
   "metadata": {}
  },
  {
   "cell_type": "code",
   "execution_count": 5,
   "source": [
    "# get column names\r\n",
    "data[0].split(';')"
   ],
   "outputs": [
    {
     "output_type": "execute_result",
     "data": {
      "text/plain": [
       "['GRAPH 0',\n",
       " 'GRAPH 0 SIZE',\n",
       " 'GRAPH 1',\n",
       " 'GRAPH 1 SIZE',\n",
       " 'ALGORITHM',\n",
       " 'SOLUTION SIZE',\n",
       " 'QUALITY MEASURE',\n",
       " 'QUALITY SCORE',\n",
       " 'WALL CLOCK TIME',\n",
       " 'CPU TIME USED',\n",
       " 'TIMEOUT',\n",
       " 'PARALLEL',\n",
       " 'RANDOMIZED',\n",
       " 'ALPHA',\n",
       " 'SOLUTIONS',\n",
       " 'SOLUTION OUTPUT\\n']"
      ]
     },
     "metadata": {},
     "execution_count": 5
    }
   ],
   "metadata": {}
  },
  {
   "cell_type": "code",
   "execution_count": 6,
   "source": [
    "# Record = namedtuple('Record', 'GRAPH0 GRAPH0_SIZE GRAPH1 GRAPH1_SIZE ALGORITHM SOLUTION_SIZE ' +\r\n",
    "#                              'QUALITY_MEASURE QUALITY_SCORE WALL_CLOCK_TIME CPU_TIME_USED TIMEOUT ' + \r\n",
    "#                              'PARALLEL RANDOMIZED ALPHA SOLUTIONS SOLUTION_OUTPUT')\r\n",
    "Record = namedtuple('Record', [s.strip().replace(' ', '_') for s in data[0].split(';')])"
   ],
   "outputs": [],
   "metadata": {}
  },
  {
   "cell_type": "code",
   "execution_count": 7,
   "source": [
    "records = list()\r\n",
    "for d in data[1:]:\r\n",
    "    #if d == '\\n': continue     ## try/execpt is better\r\n",
    "    try:\r\n",
    "        records.append(Record(*d[:-1].split(';')))\r\n",
    "    except:\r\n",
    "        logging.warning(f\"Can't parse: {repr(d)}\")"
   ],
   "outputs": [
    {
     "output_type": "stream",
     "name": "stderr",
     "text": [
      "[16:44:26] WARNING: Can't parse: '\\n'\n"
     ]
    }
   ],
   "metadata": {}
  },
  {
   "cell_type": "code",
   "execution_count": 8,
   "source": [
    "sum(float(r.CPU_TIME_USED) for r in records) / len(records) "
   ],
   "outputs": [
    {
     "output_type": "execute_result",
     "data": {
      "text/plain": [
       "575.5679499250001"
      ]
     },
     "metadata": {},
     "execution_count": 8
    }
   ],
   "metadata": {}
  },
  {
   "cell_type": "code",
   "execution_count": 9,
   "source": [
    "# problema 2: Mediana della 'QUALITY_SCORE' quando 'QUALITY_MEASURE' e` 'linear-priority'"
   ],
   "outputs": [],
   "metadata": {}
  },
  {
   "cell_type": "code",
   "execution_count": 17,
   "source": [
    "%timeit statistics.median([float(r.QUALITY_SCORE) for r in records * 10 if r.QUALITY_MEASURE == 'linear-priority'])\r\n",
    "%timeit statistics.median(float(r.QUALITY_SCORE) for r in records * 10 if r.QUALITY_MEASURE == 'linear-priority')"
   ],
   "outputs": [
    {
     "output_type": "stream",
     "name": "stdout",
     "text": [
      "88.9 µs ± 4.29 µs per loop (mean ± std. dev. of 7 runs, 10000 loops each)\n",
      "94.6 µs ± 3.99 µs per loop (mean ± std. dev. of 7 runs, 10000 loops each)\n"
     ]
    }
   ],
   "metadata": {}
  },
  {
   "cell_type": "markdown",
   "source": [
    "## USING CSV"
   ],
   "metadata": {}
  },
  {
   "cell_type": "code",
   "execution_count": 25,
   "source": [
    "file_name = os.path.join(os.getcwd(), 'data_files', 'benchmarks.csv')"
   ],
   "outputs": [],
   "metadata": {}
  },
  {
   "cell_type": "code",
   "execution_count": 6,
   "source": [
    "data = list()\r\n",
    "try:\r\n",
    "    with open(file_name) as csv_file:\r\n",
    "        dialect = csv.Sniffer().sniff(csv_file.read(2**11))\r\n",
    "        logging.warning(dialect)\r\n",
    "        csv_file.seek(0)\r\n",
    "        data = [x for x in csv.DictReader(csv_file, dialect=dialect)]\r\n",
    "except:\r\n",
    "    pass"
   ],
   "outputs": [
    {
     "output_type": "stream",
     "name": "stderr",
     "text": [
      "[08:16:15] WARNING: <class 'csv.Sniffer.sniff.<locals>.dialect'>\n"
     ]
    }
   ],
   "metadata": {}
  },
  {
   "cell_type": "code",
   "execution_count": 7,
   "source": [
    "data[0]"
   ],
   "outputs": [
    {
     "output_type": "execute_result",
     "data": {
      "text/plain": [
       "{'GRAPH 0': 'graphs/foie_gras/binary/120core_200classes_g0.txt',\n",
       " 'GRAPH 0 SIZE': '238',\n",
       " 'GRAPH 1': 'graphs/foie_gras/binary/120core_200classes_g1.txt',\n",
       " 'GRAPH 1 SIZE': '240',\n",
       " 'ALGORITHM': 'ALIKE',\n",
       " 'SOLUTION SIZE': '11',\n",
       " 'QUALITY MEASURE': 'linear-priority',\n",
       " 'QUALITY SCORE': '20011',\n",
       " 'WALL CLOCK TIME': '100.305271707',\n",
       " 'CPU TIME USED': '555.459108',\n",
       " 'TIMEOUT': 'YES',\n",
       " 'PARALLEL': 'YES',\n",
       " 'RANDOMIZED': 'YES',\n",
       " 'ALPHA': '0.25',\n",
       " 'SOLUTIONS': '3',\n",
       " 'SOLUTION OUTPUT': '[(size: 11, quality: 11): { g0-n16 g1-n203} { g0-n20 g1-n23} { g0-n52 g1-n155} { g0-n62 g1-n76} { g0-n97 g1-n144} { g0-n120 g1-n191} { g0-n172 g1-n29} { g0-n184 g1-n204} { g0-n219 g1-n139} { g0-n231 g1-n197} { g0-n236 g1-n33} ] [(size: 11, quality: 11): { g0-n20 g1-n23} { g0-n52 g1-n155} { g0-n62 g1-n76} { g0-n97 g1-n144} { g0-n120 g1-n191} { g0-n172 g1-n29} { g0-n184 g1-n204} { g0-n218 g1-n82} { g0-n219 g1-n139} { g0-n231 g1-n197} { g0-n236 g1-n33} ] [(size: 11, quality: 11): { g0-n20 g1-n23} { g0-n52 g1-n155} { g0-n62 g1-n76} { g0-n97 g1-n144} { g0-n120 g1-n191} { g0-n172 g1-n29} { g0-n184 g1-n204} { g0-n218 g1-n203} { g0-n219 g1-n139} { g0-n231 g1-n197} { g0-n236 g1-n33} ] '}"
      ]
     },
     "metadata": {},
     "execution_count": 7
    }
   ],
   "metadata": {}
  },
  {
   "cell_type": "code",
   "execution_count": null,
   "source": [],
   "outputs": [],
   "metadata": {}
  }
 ],
 "metadata": {
  "orig_nbformat": 4,
  "language_info": {
   "name": "python",
   "version": "3.8.11",
   "mimetype": "text/x-python",
   "codemirror_mode": {
    "name": "ipython",
    "version": 3
   },
   "pygments_lexer": "ipython3",
   "nbconvert_exporter": "python",
   "file_extension": ".py"
  },
  "kernelspec": {
   "name": "python3",
   "display_name": "Python 3.8.11 64-bit (conda)"
  },
  "interpreter": {
   "hash": "fbff9bfab3ee0df4124016b4e010029cf2ec5864ce5e3c4aa09796cc364af95f"
  }
 },
 "nbformat": 4,
 "nbformat_minor": 2
}