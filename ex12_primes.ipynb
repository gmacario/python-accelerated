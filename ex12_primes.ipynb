{
 "cells": [
  {
   "cell_type": "markdown",
   "source": [
    "> Notebook from [https://github.com/squillero/python-accelerated](https://github.com/squillero/python-accelerated)  \r\n",
    "> Copyright © 2021 [Giovanni Squillero](https://github.com/squillero). \r\n",
    "> Free for personal or classroom use; see [LICENCE.md](https://github.com/squillero/python-accelerated/blob/master/LICENSE.md) for details.  "
   ],
   "metadata": {}
  },
  {
   "cell_type": "markdown",
   "source": [
    "# Prime numbers"
   ],
   "metadata": {}
  },
  {
   "cell_type": "code",
   "execution_count": 4,
   "source": [
    "import time"
   ],
   "outputs": [],
   "metadata": {}
  },
  {
   "cell_type": "code",
   "execution_count": 11,
   "source": [
    "MAX_PRIME = 100_000"
   ],
   "outputs": [],
   "metadata": {}
  },
  {
   "cell_type": "code",
   "execution_count": 15,
   "source": [
    "# Dumbest possible solution\r\n",
    "\r\n",
    "def is_prime(number):\r\n",
    "    for n in range(2, number):\r\n",
    "        if number % n == 0:\r\n",
    "            return False\r\n",
    "    return True\r\n",
    "\r\n",
    "start = time.process_time()\r\n",
    "primes = list()\r\n",
    "for number in range(2, MAX_PRIME):\r\n",
    "    if is_prime(number):\r\n",
    "        primes.append(number)\r\n",
    "print(f\"Found {len(primes):,} prime numbers less than {MAX_PRIME:,} in {(time.process_time()-start):.2f}s\")"
   ],
   "outputs": [
    {
     "output_type": "stream",
     "name": "stdout",
     "text": [
      "Found 9,592 prime numbers less than 100,000 in 59.12s\n"
     ]
    }
   ],
   "metadata": {}
  },
  {
   "cell_type": "code",
   "execution_count": 16,
   "source": [
    "# Slightly optimized version using generators \r\n",
    "\r\n",
    "start = time.process_time()\r\n",
    "primes = list()\r\n",
    "for number in range(2, MAX_PRIME):\r\n",
    "    if all(number % n != 0 for n in primes):\r\n",
    "        primes.append(number)\r\n",
    "print(f\"Found {len(primes):,} prime numbers less than {MAX_PRIME:,} in {(time.process_time()-start):.2f}s\")"
   ],
   "outputs": [
    {
     "output_type": "stream",
     "name": "stdout",
     "text": [
      "Found 9,592 prime numbers less than 100,000 in 9.48s\n"
     ]
    }
   ],
   "metadata": {}
  },
  {
   "cell_type": "code",
   "execution_count": 17,
   "source": [
    "# The Eratosthenes' sieve using generators\r\n",
    " \r\n",
    "start = time.process_time()\r\n",
    "primes = set(range(2, 1+MAX_PRIME)) - \\\r\n",
    "    set(n*e for n in range(2, 1+MAX_PRIME//2) for e in range(2, 1+MAX_PRIME//n))\r\n",
    "primes = sorted(primes)\r\n",
    "print(f\"Found {len(primes):,} prime numbers less than {MAX_PRIME:,} in {(time.process_time()-start):.2f}s\")"
   ],
   "outputs": [
    {
     "output_type": "stream",
     "name": "stdout",
     "text": [
      "Found 9,592 prime numbers less than 100,000 in 0.27s\n"
     ]
    }
   ],
   "metadata": {}
  }
 ],
 "metadata": {
  "orig_nbformat": 4,
  "language_info": {
   "name": "python",
   "version": "3.8.11",
   "mimetype": "text/x-python",
   "codemirror_mode": {
    "name": "ipython",
    "version": 3
   },
   "pygments_lexer": "ipython3",
   "nbconvert_exporter": "python",
   "file_extension": ".py"
  },
  "kernelspec": {
   "name": "python3",
   "display_name": "Python 3.8.11 64-bit (conda)"
  },
  "interpreter": {
   "hash": "fbff9bfab3ee0df4124016b4e010029cf2ec5864ce5e3c4aa09796cc364af95f"
  }
 },
 "nbformat": 4,
 "nbformat_minor": 2
}