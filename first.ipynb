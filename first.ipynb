{
 "cells": [
  {
   "cell_type": "markdown",
   "source": [
    "# Empty notebook"
   ],
   "metadata": {}
  },
  {
   "cell_type": "markdown",
   "source": [
    "> Notebook from [https://github.com/squillero/python_the-hard-way](https://github.com/squillero/python_the-hard-way)  \r\n",
    "> Copyright © 2021 [Giovanni Squillero](https://github.com/squillero). \r\n",
    "> Free for personal or classroom use; see [LICENCE.md](https://github.com/squillero/python_the-hard-way/blob/master/LICENSE.md) for details.  "
   ],
   "metadata": {}
  }
 ],
 "metadata": {
  "orig_nbformat": 4,
  "language_info": {
   "name": "python",
   "version": "3.8.11"
  },
  "kernelspec": {
   "name": "python3",
   "display_name": "Python 3.8.11 64-bit (conda)"
  },
  "interpreter": {
   "hash": "fbff9bfab3ee0df4124016b4e010029cf2ec5864ce5e3c4aa09796cc364af95f"
  }
 },
 "nbformat": 4,
 "nbformat_minor": 2
}